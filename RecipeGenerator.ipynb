{
 "cells": [
  {
   "cell_type": "markdown",
   "metadata": {},
   "source": [
    "# Recipe/Shopping List Generator"
   ]
  },
  {
   "cell_type": "markdown",
   "metadata": {},
   "source": [
    "#### Import pandas, BeautifulSoup, and requests"
   ]
  },
  {
   "cell_type": "code",
   "execution_count": 1,
   "metadata": {},
   "outputs": [],
   "source": [
    "import bs4 as bs\n",
    "from requests import get\n",
    "import pandas as pd"
   ]
  },
  {
   "cell_type": "markdown",
   "metadata": {},
   "source": [
    "#### Instantiate an empty list to hold the dinner URL variables"
   ]
  },
  {
   "cell_type": "code",
   "execution_count": 2,
   "metadata": {},
   "outputs": [],
   "source": [
    "dinners = []"
   ]
  },
  {
   "cell_type": "markdown",
   "metadata": {
    "collapsed": true
   },
   "source": [
    "#### Ask user to input recipes from URLs"
   ]
  },
  {
   "cell_type": "code",
   "execution_count": 3,
   "metadata": {
    "scrolled": true
   },
   "outputs": [
    {
     "name": "stdout",
     "output_type": "stream",
     "text": [
      "What do you want for dinner this week? Enter URLs from delish.com\n",
      "Monday: https://www.delish.com/cooking/recipe-ideas/recipes/a57642/instant-pot-fall-off-the-bone-chicken-recipe/\n",
      "Tuesday: https://www.delish.com/cooking/recipe-ideas/a27185995/instant-pot-short-ribs-recipe/\n",
      "Wednesday: https://www.delish.com/cooking/recipe-ideas/a25401821/instant-pot-chicken-tortilla-soup/\n",
      "Thursday: https://www.delish.com/cooking/recipe-ideas/a23318492/instant-pot-thai-turkey-meatballs-with-rice-noodles-recipe/\n",
      "Friday: https://www.delish.com/cooking/recipe-ideas/a26243431/instant-pot-corned-beef-recipe/\n"
     ]
    }
   ],
   "source": [
    "print('What do you want for dinner this week? Enter URLs from delish.com')\n",
    "monday_dinner = input(\"Monday: \")\n",
    "tuesday_dinner = input(\"Tuesday: \")\n",
    "wednesday_dinner = input(\"Wednesday: \")\n",
    "thursday_dinner = input(\"Thursday: \")\n",
    "friday_dinner = input(\"Friday: \")"
   ]
  },
  {
   "cell_type": "markdown",
   "metadata": {},
   "source": [
    "#### Add all the dinners to the dinners list"
   ]
  },
  {
   "cell_type": "code",
   "execution_count": 4,
   "metadata": {},
   "outputs": [],
   "source": [
    "dinners.extend((monday_dinner, tuesday_dinner, wednesday_dinner, thursday_dinner, friday_dinner))"
   ]
  },
  {
   "cell_type": "markdown",
   "metadata": {},
   "source": [
    "## Extract the ingredient items (not amounts yet) for the shopping list"
   ]
  },
  {
   "cell_type": "markdown",
   "metadata": {},
   "source": [
    "#### Instantiate an empty list to receive all ingredients without removing duplicates and one list to accept the ingredients with duplicates"
   ]
  },
  {
   "cell_type": "code",
   "execution_count": 5,
   "metadata": {},
   "outputs": [],
   "source": [
    "ingredients_raw = []\n",
    "\n",
    "ingredients = []"
   ]
  },
  {
   "cell_type": "markdown",
   "metadata": {},
   "source": [
    "#### Create a while loop to cycle through all items in dinners list"
   ]
  },
  {
   "cell_type": "code",
   "execution_count": 6,
   "metadata": {},
   "outputs": [],
   "source": [
    "# set n equal to 0 to move through the dinners list starting with the first element\n",
    "n = 0\n",
    "\n",
    "# create a while loop to cycle through all items in dinners list\n",
    "while n < len(dinners):\n",
    "    \n",
    "    # set the variable response equal to each url in the dinners list\n",
    "    # this grabs the html from the intended page\n",
    "    response = get(dinners[n])\n",
    "    \n",
    "    # set the variable soup equal to the extracted html from the url\n",
    "    # this makes the html readable and usable in Python\n",
    "    soup = bs.BeautifulSoup(response.text, 'lxml')\n",
    "    \n",
    "    # create the varaible ingredient_containers to find the ingredient descriptions from the recipe\n",
    "    ingredient_containers = soup.find_all('span', class_ = 'ingredient-description')\n",
    "    \n",
    "    # use a for loop to append each ingredient to the unsorted ingredient list\n",
    "    for x in ingredient_containers:\n",
    "        \n",
    "        # x.text removes the html tags\n",
    "        ingredients_raw.append(x.text)\n",
    "        \n",
    "    # add 1 to the variable n to move on to the next url     \n",
    "    n += 1"
   ]
  },
  {
   "cell_type": "markdown",
   "metadata": {},
   "source": [
    "#### Convert all ingredients to lower case and remove pesky '\\xa0' from all elements to assist with removing duplicates"
   ]
  },
  {
   "cell_type": "code",
   "execution_count": 7,
   "metadata": {},
   "outputs": [],
   "source": [
    "#ingredients_raw = [x.lower() for x in ingredients_raw]\n",
    "ingredients_raw = map(lambda x:x.lower(),ingredients_raw)"
   ]
  },
  {
   "cell_type": "code",
   "execution_count": 8,
   "metadata": {},
   "outputs": [],
   "source": [
    "ingredients_raw = [x.replace('\\xa0','') for x in ingredients_raw]"
   ]
  },
  {
   "cell_type": "markdown",
   "metadata": {},
   "source": [
    "#### Append ingredients that are not duplicates to the final list. Display how many duplicates were found"
   ]
  },
  {
   "cell_type": "code",
   "execution_count": 9,
   "metadata": {},
   "outputs": [
    {
     "name": "stdout",
     "output_type": "stream",
     "text": [
      "15 duplicates found and removed\n"
     ]
    }
   ],
   "source": [
    "[ingredients.append(x) for x in ingredients_raw if x not in ingredients]\n",
    "#diff = len(ingredients_raw) - len(ingredients)\n",
    "\n",
    "print(f'{len(ingredients_raw) - len(ingredients)} duplicates found and removed')"
   ]
  },
  {
   "cell_type": "code",
   "execution_count": 10,
   "metadata": {},
   "outputs": [
    {
     "data": {
      "text/plain": [
       "['packed brown sugar',\n",
       " 'chili powder',\n",
       " 'smoked paprika',\n",
       " 'chopped thyme leaves',\n",
       " 'kosher salt',\n",
       " 'freshly ground black pepper',\n",
       " 'whole small chicken (3- to4-lb.)',\n",
       " 'extra-virgin olive oil',\n",
       " 'low-sodium chicken broth',\n",
       " 'freshly chopped parsley',\n",
       " 'slices bacon, cut into 1\" pieces',\n",
       " 'bone-in short ribs (about 13 to14 ribs)',\n",
       " 'large shallots, quartered',\n",
       " 'large carrots, peeled and cut into 3\" pieces',\n",
       " 'stalks celery, chopped',\n",
       " 'crushed red pepper flakes',\n",
       " 'cloves garlic, chopped',\n",
       " 'star anise',\n",
       " 'sprigs fresh thyme, plus more for garnish',\n",
       " 'tomato paste',\n",
       " 'dry sherry',\n",
       " 'worcestershire sauce',\n",
       " 'balsamic vinegar',\n",
       " 'low-sodium beef broth',\n",
       " 'mashed potatoes, for serving',\n",
       " 'bell peppers, chopped',\n",
       " 'small onion, chopped',\n",
       " 'cloves garlic, minced',\n",
       " 'dried oregano',\n",
       " 'ground cumin',\n",
       " 'boneless skinless chicken breasts (about 3)',\n",
       " 'water',\n",
       " '(14-oz.)can diced tomatoes',\n",
       " '(15-oz.) can black beans, rinsed and drained',\n",
       " 'frozen corn',\n",
       " 'freshly chopped cilantro',\n",
       " 'small corn tortilla, cut into strips',\n",
       " 'shredded monterey jack',\n",
       " 'avocado, diced',\n",
       " 'rice noodles',\n",
       " 'sesame oil',\n",
       " 'ground turkey',\n",
       " 'whole-wheat bread crumbs',\n",
       " 'sriracha',\n",
       " 'finely chopped scallions',\n",
       " 'egg, beaten',\n",
       " 'red bell pepper, sliced',\n",
       " 'freshly chopped cilantro, for garnish',\n",
       " 'lime wedge, for serving',\n",
       " 'large onion, cut into wedges',\n",
       " '(2-lb.) corned beef brisket, with seasoning packet',\n",
       " 'small head cabbage, core removed and cut into wedges',\n",
       " 'baby potatoes, halved',\n",
       " 'medium carrots, sliced and cut on the bias',\n",
       " 'extra-vigin olive oil',\n",
       " 'freshly chopped parsley, for serving']"
      ]
     },
     "execution_count": 10,
     "metadata": {},
     "output_type": "execute_result"
    }
   ],
   "source": [
    "ingredients"
   ]
  },
  {
   "cell_type": "markdown",
   "metadata": {},
   "source": [
    "#### Remove the commonly used post-comma instructions that aren't necessary for shopping lists"
   ]
  },
  {
   "cell_type": "code",
   "execution_count": null,
   "metadata": {},
   "outputs": [],
   "source": []
  }
 ],
 "metadata": {
  "kernelspec": {
   "display_name": "Python 3",
   "language": "python",
   "name": "python3"
  },
  "language_info": {
   "codemirror_mode": {
    "name": "ipython",
    "version": 3
   },
   "file_extension": ".py",
   "mimetype": "text/x-python",
   "name": "python",
   "nbconvert_exporter": "python",
   "pygments_lexer": "ipython3",
   "version": "3.7.1"
  }
 },
 "nbformat": 4,
 "nbformat_minor": 2
}
